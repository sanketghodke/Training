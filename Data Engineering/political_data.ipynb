{
 "cells": [
  {
   "cell_type": "markdown",
   "metadata": {},
   "source": []
  },
  {
   "cell_type": "code",
   "execution_count": 54,
   "metadata": {},
   "outputs": [],
   "source": [
    "from pyspark.sql import SparkSession\n"
   ]
  },
  {
   "cell_type": "code",
   "execution_count": 55,
   "metadata": {},
   "outputs": [],
   "source": [
    "spark = SparkSession.builder.appName(\"Political_data\").config(\"spark.sql.caseSensitive\", \"True\").getOrCreate()\n"
   ]
  },
  {
   "cell_type": "code",
   "execution_count": null,
   "metadata": {},
   "outputs": [],
   "source": [
    "spark"
   ]
  },
  {
   "cell_type": "code",
   "execution_count": 57,
   "metadata": {},
   "outputs": [],
   "source": [
    "db=spark.read.json(\"donation_np.json\")\n"
   ]
  },
  {
   "cell_type": "code",
   "execution_count": null,
   "metadata": {},
   "outputs": [],
   "source": [
    "# db.withColumnRenamed(\"Contribution Mode\",\"mode_of_payment\").show() #single line change\n",
    "db=db.withColumnRenamed(\"Contribution Mode\",\"mode_of_payment\")\n",
    "db=db.withColumnRenamed(\"Financial Year\",\"fin_year\")\n",
    "db=db.withColumnRenamed(\"PAN Given\",\"pan_given\")\n",
    "db.show()\n"
   ]
  },
  {
   "cell_type": "markdown",
   "metadata": {},
   "source": [
    "•\tChange below column names:\n",
    "\n",
    "Contribution Mode\tmode_of_payment\n",
    "Financial Year\tfin_year\n",
    "PAN Given\tpan_given\n"
   ]
  },
  {
   "cell_type": "code",
   "execution_count": null,
   "metadata": {},
   "outputs": [],
   "source": [
    "from pyspark.sql.types import *\n",
    "from pyspark.sql.functions import *\n",
    "import hashlib\n",
    "def encrypt_value(mobno):\n",
    "    sha_value = hashlib.sha256(mobno.encode()).hexdigest()\n",
    "    return sha_value\n",
    "\n",
    "spark_udf = udf(encrypt_value, StringType())\n",
    "#data = db.withColumn('encrypted_value',spark_udf('Address'))\n",
    "db.withColumn('Address',md5(col(\"Address\"))).show()\n"
   ]
  },
  {
   "cell_type": "markdown",
   "metadata": {},
   "source": [
    "•\tEncrypt address column\n",
    "\n",
    "16-B, Ferozeshah Road New Delhi-1\taebd8d41127096039df138069fab7630\n"
   ]
  },
  {
   "cell_type": "markdown",
   "metadata": {},
   "source": [
    "•\tChange below column names:\n",
    "\n",
    "Contribution Mode\tmode_of_payment\n",
    "Financial Year\tfin_year\n",
    "PAN Given\tpan_given\n"
   ]
  },
  {
   "cell_type": "code",
   "execution_count": null,
   "metadata": {},
   "outputs": [],
   "source": [
    "db = db.withColumn(\"payment_seperated\", when(lower(db[\"mode_of_payment\"]).contains('cash'), 'Cash').when(lower(db[\"mode_of_payment\"]).contains('bank'), 'Bank').when(lower(db[\"mode_of_payment\"]).contains('cheque') | lower(db[\"mode_of_payment\"]).contains('ch.') | lower(db[\"mode_of_payment\"]).contains('ch no'), 'Cheque').otherwise('Others'))\n",
    "db.show()"
   ]
  },
  {
   "cell_type": "markdown",
   "metadata": {},
   "source": [
    "•\tCategorize mode_of_payment into below 4 categories\n",
    "o\tCash\n",
    "o\tCheque\n",
    "o\tBank\n",
    "o\tOthers\n"
   ]
  },
  {
   "cell_type": "code",
   "execution_count": null,
   "metadata": {},
   "outputs": [],
   "source": [
    "modeArray=[]\n",
    "INC_SUM=0\n",
    "BJP_SUM=0\n",
    "NCP_SUM=0\n",
    "CPI_SUM=0\n",
    "CPIM_SUM=0\n",
    "\n",
    "INC_COUNT=0\n",
    "BJP_COUNT=0\n",
    "NCP_COUNT=0\n",
    "CPI_COUNT=0\n",
    "CPIM_COUNT=0\n",
    "\n",
    "INC_MAX=0\n",
    "BJP_MAX=0\n",
    "NCP_MAX=0\n",
    "CPI_MAX=0\n",
    "CPIM_MAX=0\n",
    "\n",
    "\n",
    "for mode in db.select(\"Party\",\"Amount\").collect():\n",
    "   if mode[0]==\"INC\":\n",
    "      INC_SUM=INC_SUM+int(mode[1])\n",
    "      INC_COUNT=INC_COUNT+1\n",
    "      if int(mode[1])>INC_MAX:\n",
    "         INC_MAX=int(mode[1])\n",
    "\n",
    "   if mode[0]==\"BJP\":\n",
    "      BJP_SUM=BJP_SUM+int(mode[1])\n",
    "      BJP_COUNT=BJP_COUNT+1\n",
    "      if int(mode[1])>BJP_MAX:\n",
    "         BJP_MAX=int(mode[1])\n",
    "\n",
    "   if mode[0]==\"NCP\":\n",
    "      NCP_SUM=NCP_SUM+int(mode[1])\n",
    "      NCP_COUNT=NCP_COUNT+1\n",
    "      if int(mode[1])>NCP_MAX:\n",
    "         NCP_MAX=int(mode[1])\n",
    "\n",
    "\n",
    "   if mode[0]==\"CPI\":\n",
    "      CPI_SUM=CPI_SUM+int(mode[1])\n",
    "      CPI_COUNT=CPI_COUNT+1\n",
    "      if int(mode[1])>CPI_MAX:\n",
    "         CPI_MAX=int(mode[1])\n",
    "\n",
    "\n",
    "   if mode[0]==\"CPI(M)\":\n",
    "      CPIM_SUM=CPIM_SUM+int(mode[1])\n",
    "      CPIM_COUNT=CPIM_COUNT+1\n",
    "      if int(mode[1])>CPIM_MAX:\n",
    "         CPIM_MAX=int(mode[1])\n",
    "   \n",
    "db=db.withColumn(\"INC_SUM_LTD\", \\\n",
    "    when((db.Party == \"INC\"), lit(INC_SUM)) \\\n",
    "      .otherwise(lit(0)) \\\n",
    " )\n",
    "\n",
    "\n",
    "db=db.withColumn(\"BJP_SUM_LTD\", \\\n",
    "    when((db.Party == \"BJP\"), lit(BJP_SUM)) \\\n",
    "      .otherwise(lit(0)) \\\n",
    " )\n",
    "\n",
    "db=db.withColumn(\"NCP_SUM_LTD\", \\\n",
    "    when((db.Party == \"NCP\"), lit(NCP_SUM)) \\\n",
    "      .otherwise(lit(0)) \\\n",
    " )\n",
    "\n",
    "db=db.withColumn(\"CPI_SUM_LTD\", \\\n",
    "    when((db.Party == \"CPI\"), lit(CPI_SUM)) \\\n",
    "      .otherwise(lit(0)) \\\n",
    " )\n",
    "\n",
    "db=db.withColumn(\"'CPI(M)_SUM_LTD\", \\\n",
    "    when((db.Party == \"CPI(M)\"), lit(CPIM_SUM)) \\\n",
    "      .otherwise(lit(0)) \\\n",
    " )\n",
    "\n",
    "\n",
    "INC_AVG=INC_SUM//INC_COUNT\n",
    "BJP_AVG=BJP_SUM//BJP_COUNT\n",
    "NCP_AVG=NCP_SUM//NCP_COUNT\n",
    "CPI_AVG=CPI_SUM//CPI_COUNT\n",
    "CPIM_AVG=CPIM_SUM//CPIM_COUNT\n",
    "\n",
    "db.show()"
   ]
  },
  {
   "cell_type": "markdown",
   "metadata": {},
   "source": [
    "•\tCalculate aggregates per party\n",
    "(below columns should b)\n",
    "\n",
    "'INC_SUM_LTD',\n",
    " 'BJP_SUM_LTD',\n",
    " 'NCP_SUM_LTD',\n",
    " 'CPI_SUM_LTD',\n",
    " 'CPI(M)_SUM_LTD',\n"
   ]
  },
  {
   "cell_type": "code",
   "execution_count": 103,
   "metadata": {},
   "outputs": [],
   "source": [
    "from pyspark.sql.types import IntegerType\n",
    "\n",
    "db = db.withColumn(\"Amount\",col(\"Amount\").cast(IntegerType()))\n",
    "\n",
    "new = db.groupBy('fin_year','Party').sum(\"Amount\")\n",
    "\n",
    "for i,j,k in new.select('fin_year','Party',\"sum(Amount)\").collect():\n",
    "\n",
    "  db = db.withColumn(\"{}_{}_SUM\".format(i,j),when( (db.Party == \"{}\".format(j)) & (db.fin_year == \"{}\".format(i)) ,lit(k) ).otherwise(lit(0)))"
   ]
  },
  {
   "cell_type": "markdown",
   "metadata": {},
   "source": [
    "•\tCalculate sum of donations per financial year per party and the\t column should be named as 2011-12_BJP_SUM"
   ]
  },
  {
   "cell_type": "code",
   "execution_count": null,
   "metadata": {},
   "outputs": [],
   "source": [
    "db=db.withColumn(\"INC_COUNT_LTD\",when((db.Party == \"INC\"), lit(INC_COUNT)) .otherwise(lit(0)))\n",
    "db=db.withColumn(\"BJP_COUNT_LTD\",when((db.Party == \"BJP\"), lit(BJP_COUNT)) .otherwise(lit(0)))\n",
    "db=db.withColumn(\"NCP_COUNT_LTD\",when((db.Party == \"NCP\"), lit(NCP_COUNT)) .otherwise(lit(0)))\n",
    "db=db.withColumn(\"CPI_COUNT_LTD\",when((db.Party == \"CPI\"), lit(CPI_COUNT)) .otherwise(lit(0)))\n",
    "db=db.withColumn(\"CPIM_COUNT_LTD\",when((db.Party == \"CPIM\"), lit(CPIM_COUNT)) .otherwise(lit(0)))\n",
    "\n",
    "db=db.withColumn(\"INC_AVG_LTD\",when((db.Party == \"INC\"), lit(INC_AVG)) .otherwise(lit(0)))\n",
    "db=db.withColumn(\"BJP_AVG_LTD\",when((db.Party == \"BJP\"), lit(BJP_AVG)) .otherwise(lit(0)))\n",
    "db=db.withColumn(\"NCP_AVG_LTD\",when((db.Party == \"NCP\"), lit(NCP_AVG)) .otherwise(lit(0)))\n",
    "db=db.withColumn(\"CPI_AVG_LTD\",when((db.Party == \"CPI\"), lit(CPI_AVG)) .otherwise(lit(0)))\n",
    "db=db.withColumn(\"CPIM_AVG_LTD\",when((db.Party == \"CPIM\"), lit(CPIM_AVG)) .otherwise(lit(0)))\n",
    "db.show()"
   ]
  },
  {
   "cell_type": "code",
   "execution_count": 101,
   "metadata": {},
   "outputs": [],
   "source": [
    "BJP_TOP_DONOR=BJP_MAX\n",
    "CPI_TOP_DONOR=CPI_MAX\n",
    "INC_TOP_DONOR=INC_MAX\n",
    "NCP_TOP_DONOR=NCP_MAX\n",
    "CPIM_TOP_DONOR=CPIM_MAX\n"
   ]
  },
  {
   "cell_type": "markdown",
   "metadata": {},
   "source": [
    "•\tCalculate top donor per party \n",
    "\n",
    "o\tBJP_TOP_DONOR\n",
    "o\tCPI_TOP_DONOR\n",
    "o\tINC_TOP_DONOR\n",
    "o\tNCP_TOP_DONOR\n",
    "o\tCPI(M)_TOP_DONOR\n"
   ]
  },
  {
   "cell_type": "code",
   "execution_count": null,
   "metadata": {},
   "outputs": [],
   "source": [
    "Bank_count=0\n",
    "Cheque_count=0\n",
    "Cash_count=0\n",
    "Others_count=0\n",
    "\n",
    "for payment_seperated in db.select(\"payment_seperated\").collect():\n",
    "    if payment_seperated==\"Bank\":\n",
    "        Bank_count=Bank_count+1\n",
    "    elif payment_seperated==\"Cheque\":\n",
    "        Cheque_count=Cheque_count+1\n",
    "    elif payment_seperated==\"Cash\":\n",
    "        Cash_count=Cash_count+1\n",
    "    else:\n",
    "        Others_count=Others_count+1\n",
    "\n",
    "db=db.withColumn(\"Bank_count_LTD\",when((db.payment_seperated == \"Bank\"), lit(Bank_count)) .otherwise(lit(0)))\n",
    "db=db.withColumn(\"Cheque_count_LTD\",when((db.payment_seperated == \"Cheque\"), lit(Cheque_count)) .otherwise(lit(0)))\n",
    "db=db.withColumn(\"Cash_count_LTD\",when((db.payment_seperated == \"Cash\"), lit(Cash_count)) .otherwise(lit(0)))\n",
    "db=db.withColumn(\"Others_count_LTD\",when((db.payment_seperated == \"Others\"), lit(Others_count)) .otherwise(lit(0)))\n",
    "\n",
    "db.show()"
   ]
  },
  {
   "cell_type": "markdown",
   "metadata": {},
   "source": [
    "•\tCalculate number of donation till date per mode_of_payment\n",
    "o\tBank_count_LTD\n",
    "o\tCheque_count_LTD\n",
    "o\tCash_count_LTD\n",
    "o\tOthers_count_LTD\n"
   ]
  }
 ],
 "metadata": {
  "kernelspec": {
   "display_name": "Python 3.9.13 64-bit",
   "language": "python",
   "name": "python3"
  },
  "language_info": {
   "codemirror_mode": {
    "name": "ipython",
    "version": 3
   },
   "file_extension": ".py",
   "mimetype": "text/x-python",
   "name": "python",
   "nbconvert_exporter": "python",
   "pygments_lexer": "ipython3",
   "version": "3.9.13"
  },
  "orig_nbformat": 4,
  "vscode": {
   "interpreter": {
    "hash": "3fa1adafaa5420a64e575899251703c39e85aebc434cc01ffacc1405293af4b2"
   }
  }
 },
 "nbformat": 4,
 "nbformat_minor": 2
}
