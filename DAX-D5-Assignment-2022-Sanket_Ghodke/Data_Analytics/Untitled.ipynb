{
 "cells": [
  {
   "cell_type": "code",
   "execution_count": 21,
   "id": "07d99450",
   "metadata": {},
   "outputs": [],
   "source": [
    "import pandas as pd\n",
    "import matplotlib.pyplot as plt\n",
    "df=pd.read_csv('https://raw.githubusercontent.com/AdityaNarayan23/DAX-Freshers-Training/main/healthcare-dataset-stroke-data.csv')\n",
    "\n"
   ]
  },
  {
   "cell_type": "code",
   "execution_count": 3,
   "id": "ee0fa152",
   "metadata": {},
   "outputs": [
    {
     "name": "stdout",
     "output_type": "stream",
     "text": [
      "5110\n",
      "201\n"
     ]
    }
   ],
   "source": [
    "number_of_records= len(df.index)\n",
    "print(number_of_records)\n",
    "\n",
    "null_count=df.isnull().sum().sum()\n",
    "print(null_count)"
   ]
  },
  {
   "cell_type": "code",
   "execution_count": 5,
   "id": "aa5c4f33",
   "metadata": {},
   "outputs": [
    {
     "name": "stdout",
     "output_type": "stream",
     "text": [
      "id                   36517.829354\n",
      "age                     43.226614\n",
      "hypertension             0.097456\n",
      "heart_disease            0.054012\n",
      "avg_glucose_level      106.147677\n",
      "bmi                     28.893237\n",
      "stroke                   0.048728\n",
      "dtype: float64\n",
      "id                   36932.000\n",
      "age                     45.000\n",
      "hypertension             0.000\n",
      "heart_disease            0.000\n",
      "avg_glucose_level       91.885\n",
      "bmi                     28.100\n",
      "stroke                   0.000\n",
      "dtype: float64\n",
      "id                   21161.721625\n",
      "age                     22.612647\n",
      "hypertension             0.296607\n",
      "heart_disease            0.226063\n",
      "avg_glucose_level       45.283560\n",
      "bmi                      7.854067\n",
      "stroke                   0.215320\n",
      "dtype: float64\n"
     ]
    },
    {
     "name": "stderr",
     "output_type": "stream",
     "text": [
      "C:\\Users\\sghodk\\AppData\\Local\\Temp\\ipykernel_1144\\626323692.py:1: FutureWarning: Dropping of nuisance columns in DataFrame reductions (with 'numeric_only=None') is deprecated; in a future version this will raise TypeError.  Select only valid columns before calling the reduction.\n",
      "  print(df.mean())\n",
      "C:\\Users\\sghodk\\AppData\\Local\\Temp\\ipykernel_1144\\626323692.py:2: FutureWarning: Dropping of nuisance columns in DataFrame reductions (with 'numeric_only=None') is deprecated; in a future version this will raise TypeError.  Select only valid columns before calling the reduction.\n",
      "  print(df.median())\n",
      "C:\\Users\\sghodk\\AppData\\Local\\Temp\\ipykernel_1144\\626323692.py:3: FutureWarning: Dropping of nuisance columns in DataFrame reductions (with 'numeric_only=None') is deprecated; in a future version this will raise TypeError.  Select only valid columns before calling the reduction.\n",
      "  print(df.std())\n"
     ]
    }
   ],
   "source": [
    "print(df.mean())\n",
    "print(df.median())\n",
    "print(df.std())"
   ]
  },
  {
   "cell_type": "code",
   "execution_count": 24,
   "id": "12613f5e",
   "metadata": {},
   "outputs": [
    {
     "data": {
      "text/plain": [
       "(array([434., 362., 440., 484., 597., 583., 686., 559., 407., 558.]),\n",
       " array([8.0000e-02, 8.2720e+00, 1.6464e+01, 2.4656e+01, 3.2848e+01,\n",
       "        4.1040e+01, 4.9232e+01, 5.7424e+01, 6.5616e+01, 7.3808e+01,\n",
       "        8.2000e+01]),\n",
       " <BarContainer object of 10 artists>)"
      ]
     },
     "execution_count": 24,
     "metadata": {},
     "output_type": "execute_result"
    },
    {
     "data": {
      "image/png": "[encoded data removed]",
      "text/plain": [
       "<Figure size 432x288 with 1 Axes>"
      ]
     },
     "metadata": {
      "needs_background": "light"
     },
     "output_type": "display_data"
    }
   ],
   "source": [
    "plt.hist(df[\"age\"])\n"
   ]
  },
  {
   "cell_type": "code",
   "execution_count": 26,
   "id": "24c56b70",
   "metadata": {},
   "outputs": [
    {
     "name": "stdout",
     "output_type": "stream",
     "text": [
      "There are 4.09 % values are null \n"
     ]
    }
   ],
   "source": [
    "total_values = df.bmi.count()\n",
    "null_values = df.bmi.isnull().sum()\n",
    "print('There are {:.2f} % values are null '.format(null_values/total_values*100))"
   ]
  },
  {
   "cell_type": "code",
   "execution_count": 28,
   "id": "04b7d800",
   "metadata": {},
   "outputs": [
    {
     "name": "stdout",
     "output_type": "stream",
     "text": [
      "The Median value for bmi column is -  28.1\n"
     ]
    }
   ],
   "source": [
    "print('The Median value for bmi column is - ', df.bmi.median())\n",
    "df[\"bmi\"].fillna(df.bmi.median(), inplace = True)\n"
   ]
  },
  {
   "cell_type": "code",
   "execution_count": 29,
   "id": "4b924709",
   "metadata": {},
   "outputs": [
    {
     "name": "stdout",
     "output_type": "stream",
     "text": [
      "There are 0.00 % values are null \n"
     ]
    }
   ],
   "source": [
    "total_values = df.bmi.count()\n",
    "null_values = df.bmi.isnull().sum()\n",
    "print('There are {:.2f} % values are null '.format(null_values/total_values*100))"
   ]
  },
  {
   "cell_type": "code",
   "execution_count": null,
   "id": "3aecabfb",
   "metadata": {},
   "outputs": [],
   "source": []
  }
 ],
 "metadata": {
  "kernelspec": {
   "display_name": "Python 3 (ipykernel)",
   "language": "python",
   "name": "python3"
  },
  "language_info": {
   "codemirror_mode": {
    "name": "ipython",
    "version": 3
   },
   "file_extension": ".py",
   "mimetype": "text/x-python",
   "name": "python",
   "nbconvert_exporter": "python",
   "pygments_lexer": "ipython3",
   "version": "3.9.13"
  }
 },
 "nbformat": 4,
 "nbformat_minor": 5
}
