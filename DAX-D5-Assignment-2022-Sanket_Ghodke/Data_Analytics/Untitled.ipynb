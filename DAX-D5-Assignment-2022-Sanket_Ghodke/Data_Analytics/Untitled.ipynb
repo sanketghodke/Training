{
 "cells": [
  {
   "cell_type": "code",
   "execution_count": 5,
   "id": "07d99450",
   "metadata": {},
   "outputs": [],
   "source": [
    "import pandas as pd\n",
    "df=pd.read_csv('https://raw.githubusercontent.com/AdityaNarayan23/DAX-Freshers-Training/main/healthcare-dataset-stroke-data.csv')\n",
    "\n"
   ]
  },
  {
   "cell_type": "code",
   "execution_count": 4,
   "id": "ee0fa152",
   "metadata": {},
   "outputs": [
    {
     "name": "stdout",
     "output_type": "stream",
     "text": [
      "5110\n",
      "201\n"
     ]
    }
   ],
   "source": [
    "number_of_records= len(df.index)\n",
    "print(number_of_records)\n",
    "\n",
    "null_count=df.isnull().sum().sum()\n",
    "print(null_count)"
   ]
  },
  {
   "cell_type": "code",
   "execution_count": null,
   "id": "aa5c4f33",
   "metadata": {},
   "outputs": [],
   "source": []
  }
 ],
 "metadata": {
  "kernelspec": {
   "display_name": "Python 3 (ipykernel)",
   "language": "python",
   "name": "python3"
  },
  "language_info": {
   "codemirror_mode": {
    "name": "ipython",
    "version": 3
   },
   "file_extension": ".py",
   "mimetype": "text/x-python",
   "name": "python",
   "nbconvert_exporter": "python",
   "pygments_lexer": "ipython3",
   "version": "3.9.13"
  }
 },
 "nbformat": 4,
 "nbformat_minor": 5
}
